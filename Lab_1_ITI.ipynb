{
  "nbformat": 4,
  "nbformat_minor": 0,
  "metadata": {
    "colab": {
      "provenance": [],
      "authorship_tag": "ABX9TyOQ3w6LAsLzyKrL0GNcjMQS",
      "include_colab_link": true
    },
    "kernelspec": {
      "name": "python3",
      "display_name": "Python 3"
    },
    "language_info": {
      "name": "python"
    }
  },
  "cells": [
    {
      "cell_type": "markdown",
      "metadata": {
        "id": "view-in-github",
        "colab_type": "text"
      },
      "source": [
        "<a href=\"https://colab.research.google.com/github/faris-alsherif/AI-course-ITI/blob/main/Lab_1_ITI.ipynb\" target=\"_parent\"><img src=\"https://colab.research.google.com/assets/colab-badge.svg\" alt=\"Open In Colab\"/></a>"
      ]
    },
    {
      "cell_type": "markdown",
      "source": [
        "<h1>Q1 in image</h1>"
      ],
      "metadata": {
        "id": "EfwtEZg96Ah_"
      }
    },
    {
      "cell_type": "code",
      "execution_count": 11,
      "metadata": {
        "colab": {
          "base_uri": "https://localhost:8080/"
        },
        "id": "4tCwMgYfkmBm",
        "outputId": "006f5bce-e0a0-401c-bf96-e13ea94cb6e0"
      },
      "outputs": [
        {
          "output_type": "stream",
          "name": "stdout",
          "text": [
            "7\n",
            "2\n",
            "17\n",
            "27\n",
            "1.6666666666666667\n",
            "1\n",
            "2\n",
            "================\n",
            "7.0\n",
            "2.0\n",
            "17.0\n",
            "27.0\n",
            "1.6666666666666667\n",
            "1.0\n",
            "2.0\n"
          ]
        }
      ],
      "source": [
        "num1 = 3\n",
        "num2 = 4\n",
        "num3 = 5\n",
        "\n",
        "#a\n",
        "print(num1+num2)\n",
        "print(num3-num1)\n",
        "print(num1*num2+num3)\n",
        "print(num1*(num2+num3))\n",
        "print(num3/num1)\n",
        "print(num3//num1)\n",
        "print(num3%num1)\n",
        "\n",
        "print('================')\n",
        "\n",
        "#b\n",
        "fnum1 = float(num1)\n",
        "fnum2 = float(num2)\n",
        "fnum3 = float(num3)\n",
        "\n",
        "print(fnum1+fnum2)\n",
        "print(fnum3-fnum1)\n",
        "print(fnum1*fnum2+fnum3)\n",
        "print(fnum1*(fnum2+fnum3))\n",
        "print(fnum3/fnum1)\n",
        "print(fnum3//fnum1)\n",
        "print(fnum3%fnum1)"
      ]
    },
    {
      "cell_type": "markdown",
      "source": [
        "<h1>Q2 in image</h1>"
      ],
      "metadata": {
        "id": "3OF-rYM06Rrh"
      }
    },
    {
      "cell_type": "code",
      "source": [
        "x = 1\n",
        "y = 2\n",
        "z = 3\n",
        "g = 4\n",
        "\n",
        "#a\n",
        "print(x+y*z/g)\n",
        "\n",
        "#b\n",
        "print(y**z)"
      ],
      "metadata": {
        "colab": {
          "base_uri": "https://localhost:8080/"
        },
        "id": "ozYwTBcCpKhm",
        "outputId": "36146842-48be-4ecd-bdc8-47bbd0d04984"
      },
      "execution_count": 13,
      "outputs": [
        {
          "output_type": "stream",
          "name": "stdout",
          "text": [
            "2.5\n",
            "8\n"
          ]
        }
      ]
    },
    {
      "cell_type": "markdown",
      "source": [
        "<h1>Q3 in image</h1>"
      ],
      "metadata": {
        "id": "rT9OVyJN6bzd"
      }
    },
    {
      "cell_type": "code",
      "source": [
        "from pickle import STRING\n",
        "from typing_extensions import Concatenate\n",
        "str_a = 'Python'\n",
        "str_b = ' is a '\n",
        "str_c = ' times fun language'\n",
        "num = 1000\n",
        "\n",
        "#a\n",
        "str_ab = str_a + str_b + str(num) + str_c\n",
        "print(str_ab)\n",
        "\n",
        "#b\n",
        "str_a10 = str_a*10\n",
        "print(str_a10)"
      ],
      "metadata": {
        "colab": {
          "base_uri": "https://localhost:8080/"
        },
        "id": "XCePzjOHpzXP",
        "outputId": "610bad58-35ac-40da-dc0a-fb34786d6d8c"
      },
      "execution_count": 20,
      "outputs": [
        {
          "output_type": "stream",
          "name": "stdout",
          "text": [
            "Python is a 1000 times fun language\n",
            "PythonPythonPythonPythonPythonPythonPythonPythonPythonPython\n"
          ]
        }
      ]
    },
    {
      "cell_type": "markdown",
      "source": [
        "<h1>Q4 in image</h1>"
      ],
      "metadata": {
        "id": "rOG3KzDm67M4"
      }
    },
    {
      "cell_type": "code",
      "source": [
        "num1 = -5\n",
        "num2 = 3.2\n",
        "num3 = 5.7\n",
        "num4 = 625\n",
        "\n",
        "#a\n",
        "print(abs(num1))\n",
        "\n",
        "#b\n",
        "print(round(num2))\n",
        "print(round(num3))\n",
        "\n",
        "#c\n",
        "print(num4**0.5)"
      ],
      "metadata": {
        "colab": {
          "base_uri": "https://localhost:8080/"
        },
        "id": "npEF8cXC7BX_",
        "outputId": "75991c7d-4e12-4cf2-f3cc-bbac32364532"
      },
      "execution_count": 43,
      "outputs": [
        {
          "output_type": "stream",
          "name": "stdout",
          "text": [
            "5\n",
            "3\n",
            "6\n",
            "25.0\n"
          ]
        }
      ]
    },
    {
      "cell_type": "markdown",
      "source": [
        "<h1>Q5 in image</h1>"
      ],
      "metadata": {
        "id": "TE3jier38b1z"
      }
    },
    {
      "cell_type": "code",
      "source": [
        "oper = str(input(\"\"\"Select your operation:\n",
        "a)add two num    b)sub two num\n",
        "c)multiply two num   d)divide two num\n",
        "\"\"\"))\n",
        "\n",
        "num1 = int(input('Enter first num'))\n",
        "num2 = int(input('Enter second num'))\n",
        "\n",
        "if oper == 'a':\n",
        "  print(num1 + num2)\n",
        "if oper == 'b':\n",
        "  print(num1 - num2)\n",
        "if oper == 'c':\n",
        "  print(num1 * num2)\n",
        "if oper == 'd':\n",
        "  print(num1 / num2)\n",
        "else:\n",
        "  print('Please select between the choises')"
      ],
      "metadata": {
        "colab": {
          "base_uri": "https://localhost:8080/"
        },
        "id": "MpSTLTWc8iX5",
        "outputId": "8c9382fe-2676-4428-ed97-b83c9566adf5"
      },
      "execution_count": 49,
      "outputs": [
        {
          "output_type": "stream",
          "name": "stdout",
          "text": [
            "Select your operation:\n",
            "a)add two num    b)sub two num\n",
            "c)multiply two num   d)divide two num\n",
            "d\n",
            "Enter first num7\n",
            "Enter second num2\n",
            "3.5\n"
          ]
        }
      ]
    },
    {
      "cell_type": "markdown",
      "source": [
        "<h1>Odd or Even quest. in pdf</h1>"
      ],
      "metadata": {
        "id": "By3hmUgNAher"
      }
    },
    {
      "cell_type": "code",
      "source": [
        "n = int(input('Enter a number '))\n",
        "\n",
        "if n%2 == 0 :\n",
        " print('Your number is Even')\n",
        "else:\n",
        "  print('Your number is Odd')"
      ],
      "metadata": {
        "colab": {
          "base_uri": "https://localhost:8080/"
        },
        "id": "QXeCgBrzr03K",
        "outputId": "e58f88e4-5e56-4f25-af03-aff421dcedaf"
      },
      "execution_count": 28,
      "outputs": [
        {
          "output_type": "stream",
          "name": "stdout",
          "text": [
            "Enter a number 7\n",
            "Your number is Odd\n"
          ]
        }
      ]
    },
    {
      "cell_type": "markdown",
      "source": [
        "<h1>Pass or Fail quest. in pdf</h1>"
      ],
      "metadata": {
        "id": "v_AH6qzqB3-q"
      }
    },
    {
      "cell_type": "code",
      "source": [
        "degree = int(input('Enter your degree '))\n",
        "\n",
        "if degree >= 50 :\n",
        "  print('Pass')\n",
        "else:\n",
        "  print('Fail')"
      ],
      "metadata": {
        "colab": {
          "base_uri": "https://localhost:8080/"
        },
        "id": "GN14g6jGtBBr",
        "outputId": "80ec93de-5cc2-4e08-ba71-cf8043121e08"
      },
      "execution_count": 31,
      "outputs": [
        {
          "output_type": "stream",
          "name": "stdout",
          "text": [
            "Enter your degree 50\n",
            "Pass\n"
          ]
        }
      ]
    },
    {
      "cell_type": "markdown",
      "source": [
        "<h1>Largest of 3 numbers quest. in pdf</h1>"
      ],
      "metadata": {
        "id": "zUFA6i_1ESNH"
      }
    },
    {
      "cell_type": "code",
      "source": [
        "num1 = int(input('Enter your first num '))\n",
        "num2 = int(input('Enter your second num '))\n",
        "num3 = int(input('Enter your third num '))\n",
        "\n",
        "if num1 > num2 :\n",
        "  the_big = num1\n",
        "if num1 < num2 :\n",
        "   the_big = num2\n",
        "if num3 > num1 and num3 > num2 :\n",
        "  the_big = num3\n",
        "\n",
        "print(the_big)"
      ],
      "metadata": {
        "colab": {
          "base_uri": "https://localhost:8080/"
        },
        "id": "n9L1sEUxtmgD",
        "outputId": "fd44e697-5260-43c1-eb0d-460501d9fa46"
      },
      "execution_count": 37,
      "outputs": [
        {
          "output_type": "stream",
          "name": "stdout",
          "text": [
            "Enter your frist num 1\n",
            "Enter your second num 3\n",
            "Enter your third num 2\n",
            "3\n"
          ]
        }
      ]
    },
    {
      "cell_type": "markdown",
      "source": [
        "<h1>Counting with for quest. in pdf</h1>"
      ],
      "metadata": {
        "id": "bGcNLEvbEcw4"
      }
    },
    {
      "cell_type": "code",
      "source": [
        "for i in range(1,11):\n",
        "  print(i)"
      ],
      "metadata": {
        "colab": {
          "base_uri": "https://localhost:8080/"
        },
        "id": "9loVTGE0v88D",
        "outputId": "ae89c666-4c08-43bf-fbaa-5cf8808f847c"
      },
      "execution_count": 38,
      "outputs": [
        {
          "output_type": "stream",
          "name": "stdout",
          "text": [
            "1\n",
            "2\n",
            "3\n",
            "4\n",
            "5\n",
            "6\n",
            "7\n",
            "8\n",
            "9\n",
            "10\n"
          ]
        }
      ]
    },
    {
      "cell_type": "markdown",
      "source": [
        "<h1>Grade Calculator quest. in pdf</h1>"
      ],
      "metadata": {
        "id": "P2cIeE_3Ehh0"
      }
    },
    {
      "cell_type": "code",
      "source": [
        "result = int(input('Enter your result '))\n",
        "\n",
        "if result >= 90 and result <= 100:\n",
        "  print('A')\n",
        "elif result >= 80 and result <= 89:\n",
        "  print('B')\n",
        "elif result >= 70 and result <= 79:\n",
        "  print('C')\n",
        "elif result >= 60 and result <= 69:\n",
        "  print('D')\n",
        "else:\n",
        "  print('F')"
      ],
      "metadata": {
        "colab": {
          "base_uri": "https://localhost:8080/"
        },
        "id": "PE1LpZMBwl39",
        "outputId": "a06011fa-8552-4185-879f-3a0f1ab04fac"
      },
      "execution_count": 55,
      "outputs": [
        {
          "output_type": "stream",
          "name": "stdout",
          "text": [
            "Enter your result 60\n",
            "D\n"
          ]
        }
      ]
    },
    {
      "cell_type": "markdown",
      "source": [
        "<h1>Multiplication Table quest. in pdf</h1>"
      ],
      "metadata": {
        "id": "-i7YeyAhFn5m"
      }
    },
    {
      "cell_type": "code",
      "source": [
        "num = int(input('Enter your num '))\n",
        "\n",
        "for i in range(1,11):\n",
        "  print(num,'*',i,'=',num*i)"
      ],
      "metadata": {
        "colab": {
          "base_uri": "https://localhost:8080/"
        },
        "id": "dPJpANUhGMTs",
        "outputId": "7b2261cc-fe08-4dae-9645-b75e242dba2a"
      },
      "execution_count": 60,
      "outputs": [
        {
          "output_type": "stream",
          "name": "stdout",
          "text": [
            "Enter your num 5\n",
            "5 * 1 = 5\n",
            "5 * 2 = 10\n",
            "5 * 3 = 15\n",
            "5 * 4 = 20\n",
            "5 * 5 = 25\n",
            "5 * 6 = 30\n",
            "5 * 7 = 35\n",
            "5 * 8 = 40\n",
            "5 * 9 = 45\n",
            "5 * 10 = 50\n"
          ]
        }
      ]
    },
    {
      "cell_type": "markdown",
      "source": [
        "<h1>Sum of Even Numbers quest. in pdf</h1>"
      ],
      "metadata": {
        "id": "g0rFG8LjGMtL"
      }
    },
    {
      "cell_type": "code",
      "source": [
        "sum = 0\n",
        "for i in range(1,51):\n",
        "  if i%2 == 0:\n",
        "    sum += i\n",
        "print(sum)"
      ],
      "metadata": {
        "colab": {
          "base_uri": "https://localhost:8080/"
        },
        "id": "0EZnhVUOGTWV",
        "outputId": "b06fe230-916c-40f7-ae06-a2333783ca8d"
      },
      "execution_count": 61,
      "outputs": [
        {
          "output_type": "stream",
          "name": "stdout",
          "text": [
            "650\n"
          ]
        }
      ]
    },
    {
      "cell_type": "markdown",
      "source": [
        "<h1>Factorial with while quest. in pdf</h1>"
      ],
      "metadata": {
        "id": "KIfjHtS-GTnG"
      }
    },
    {
      "cell_type": "code",
      "source": [
        "num = int(input('Enter your num '))\n",
        "result = 1\n",
        "\n",
        "while num > 1:\n",
        "  result *= num\n",
        "  num -= 1\n",
        "\n",
        "print(result)"
      ],
      "metadata": {
        "colab": {
          "base_uri": "https://localhost:8080/"
        },
        "id": "F7-TyVQ3GaL5",
        "outputId": "a6b9296c-3cce-45f5-e11c-4821e6e8db03"
      },
      "execution_count": 75,
      "outputs": [
        {
          "output_type": "stream",
          "name": "stdout",
          "text": [
            "Enter your num 3\n",
            "6\n"
          ]
        }
      ]
    }
  ]
}