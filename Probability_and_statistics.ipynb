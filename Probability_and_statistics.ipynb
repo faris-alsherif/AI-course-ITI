{
  "nbformat": 4,
  "nbformat_minor": 0,
  "metadata": {
    "colab": {
      "provenance": [],
      "authorship_tag": "ABX9TyNZ8rXPCuk4jJMSgxPyVTG0",
      "include_colab_link": true
    },
    "kernelspec": {
      "name": "python3",
      "display_name": "Python 3"
    },
    "language_info": {
      "name": "python"
    }
  },
  "cells": [
    {
      "cell_type": "markdown",
      "metadata": {
        "id": "view-in-github",
        "colab_type": "text"
      },
      "source": [
        "<a href=\"https://colab.research.google.com/github/faris-alsherif/AI-course-ITI/blob/main/Probability_and_statistics.ipynb\" target=\"_parent\"><img src=\"https://colab.research.google.com/assets/colab-badge.svg\" alt=\"Open In Colab\"/></a>"
      ]
    },
    {
      "cell_type": "code",
      "source": [
        "import numpy as np"
      ],
      "metadata": {
        "id": "3vLtuZh1KOmF"
      },
      "execution_count": 34,
      "outputs": []
    },
    {
      "cell_type": "code",
      "execution_count": 35,
      "metadata": {
        "colab": {
          "base_uri": "https://localhost:8080/"
        },
        "id": "fTq1gU-9IuFC",
        "outputId": "cd659c60-d917-40fe-d4db-e3d6638ab53c"
      },
      "outputs": [
        {
          "output_type": "stream",
          "name": "stdout",
          "text": [
            "20.5\n",
            "20.5\n"
          ]
        }
      ],
      "source": [
        "ages = [18,21,20,19,22,23,20,21,22,19]\n",
        "manual_mean = sum(ages)/len(ages)\n",
        "print(manual_mean)\n",
        "\n",
        "numpy_mean = np.mean(ages)\n",
        "print(numpy_mean)"
      ]
    },
    {
      "cell_type": "code",
      "source": [
        "random_list = np.random.randint(10, 51, size=15)\n",
        "print(random_list)\n",
        "\n",
        "sorted_list = sorted(random_list)\n",
        "print(sorted_list[7])\n",
        "\n",
        "numpy_median = np.median(random_list)\n",
        "print(numpy_median)"
      ],
      "metadata": {
        "colab": {
          "base_uri": "https://localhost:8080/"
        },
        "id": "cLk5qc7UKVYR",
        "outputId": "8c21ffca-cedd-4eee-ace8-ff72e72b0a15"
      },
      "execution_count": 36,
      "outputs": [
        {
          "output_type": "stream",
          "name": "stdout",
          "text": [
            "[10 33 41 39 44 37 33 16 34 17 21 34 24 41 49]\n",
            "34\n",
            "34.0\n"
          ]
        }
      ]
    },
    {
      "cell_type": "code",
      "source": [
        "max = sorted_list[14]\n",
        "min = sorted_list[0]\n",
        "range = max - min\n",
        "\n",
        "print(max)\n",
        "print(min)\n",
        "print(range)\n",
        "\n",
        "numpy_max = np.max(random_list)\n",
        "numpy_min = np.min(random_list)\n",
        "numpy_range = np.ptp(random_list)\n",
        "\n",
        "print(numpy_max)\n",
        "print(numpy_min)\n",
        "print(numpy_range)"
      ],
      "metadata": {
        "colab": {
          "base_uri": "https://localhost:8080/"
        },
        "id": "tALvOTFSN_zL",
        "outputId": "132145dc-f291-4085-e61c-072bcdbd2755"
      },
      "execution_count": 37,
      "outputs": [
        {
          "output_type": "stream",
          "name": "stdout",
          "text": [
            "49\n",
            "10\n",
            "39\n",
            "49\n",
            "10\n",
            "39\n"
          ]
        }
      ]
    },
    {
      "cell_type": "code",
      "source": [
        "data = [5,7,3,7,9,10,15,17]\n",
        "\n",
        "mean = np.mean(data)\n",
        "var = sum([(x - mean) ** 2 for x in data]) / len(data)\n",
        "std = var ** 0.5\n",
        "print(var)\n",
        "print(std)\n",
        "\n",
        "numpy_var = np.var(data)\n",
        "numpy_std = np.std(data)\n",
        "print(numpy_var)\n",
        "print(numpy_std)"
      ],
      "metadata": {
        "id": "Uiac5wrPO6iG",
        "colab": {
          "base_uri": "https://localhost:8080/"
        },
        "outputId": "af692f6f-37bd-4174-d605-dac44194a3a1"
      },
      "execution_count": 38,
      "outputs": [
        {
          "output_type": "stream",
          "name": "stdout",
          "text": [
            "20.109375\n",
            "4.484347778663024\n",
            "20.109375\n",
            "4.484347778663024\n"
          ]
        }
      ]
    },
    {
      "cell_type": "code",
      "metadata": {
        "colab": {
          "base_uri": "https://localhost:8080/"
        },
        "id": "9d907beb",
        "outputId": "b33fa53c-3f03-42c6-b25b-fa4973152576"
      },
      "source": [
        "Q1 = np.percentile(data, 25)\n",
        "Q2 = np.percentile(data, 50)\n",
        "Q3 = np.percentile(data, 75)\n",
        "IQR = Q3 - Q1\n",
        "\n",
        "print(Q1)\n",
        "print(Q2)\n",
        "print(Q3)\n",
        "print(IQR)"
      ],
      "execution_count": 39,
      "outputs": [
        {
          "output_type": "stream",
          "name": "stdout",
          "text": [
            "6.5\n",
            "8.0\n",
            "11.25\n",
            "4.75\n"
          ]
        }
      ]
    },
    {
      "cell_type": "code",
      "source": [
        "data = [5,4,8,7,6,8,10,4]\n",
        "\n",
        "mean = sum(data) / len(data)\n",
        "variance = sum([(x - mean) ** 2 for x in data]) / len(data)\n",
        "std_dev = variance ** 0.5\n",
        "z_scores = [(x - mean) / std_dev for x in data]\n",
        "\n",
        "print(z_scores)"
      ],
      "metadata": {
        "colab": {
          "base_uri": "https://localhost:8080/"
        },
        "id": "y6IgUMaP-Wq2",
        "outputId": "335c651f-831a-4751-f535-d4cd43688738"
      },
      "execution_count": 40,
      "outputs": [
        {
          "output_type": "stream",
          "name": "stdout",
          "text": [
            "[-0.75, -1.25, 0.75, 0.25, -0.25, 0.75, 1.75, -1.25]\n"
          ]
        }
      ]
    },
    {
      "cell_type": "code",
      "source": [
        "random_list = np.random.randint(1, 101, size=20)\n",
        "\n",
        "window = np.ones(window_size) / window_size\n",
        "moving_avg_numpy = np.convolve(random_list, window, mode='valid')\n",
        "print(moving_avg_numpy)"
      ],
      "metadata": {
        "colab": {
          "base_uri": "https://localhost:8080/"
        },
        "id": "mZp6wzwoAXFP",
        "outputId": "4c1d1ab4-318a-4c63-e8ce-d986617d436c"
      },
      "execution_count": 41,
      "outputs": [
        {
          "output_type": "stream",
          "name": "stdout",
          "text": [
            "[66.33333333 65.66666667 61.         49.         46.         37.66666667\n",
            " 28.33333333 35.66666667 42.33333333 32.         46.         45.33333333\n",
            " 67.33333333 46.66666667 52.         34.66666667 23.33333333  7.33333333]\n"
          ]
        }
      ]
    },
    {
      "cell_type": "code",
      "source": [
        "random_list = np.random.randint(1, 51, size=25)\n",
        "working_list = np.append(random_list, [300, 400])\n",
        "print(working_list)\n",
        "\n",
        "Q1 = np.percentile(working_list, 25)\n",
        "Q2 = np.percentile(working_list, 50)\n",
        "Q3 = np.percentile(working_list, 75)\n",
        "IQR = Q3 - Q1\n",
        "\n",
        "print(Q1)\n",
        "print(Q2)\n",
        "print(Q3)\n",
        "print(IQR)\n",
        "\n",
        "upper = Q3 + 1.5 * IQR\n",
        "lower = Q1 - 1.5 * IQR\n",
        "\n",
        "outliers = []\n",
        "for x in working_list:\n",
        "  if x > upper:\n",
        "    outliers.append(x)\n",
        "  if x < lower:\n",
        "    outliers.append(x)\n",
        "print(outliers)"
      ],
      "metadata": {
        "colab": {
          "base_uri": "https://localhost:8080/"
        },
        "id": "Wl3pPClqBQQo",
        "outputId": "e0c3dbf0-f3e6-4580-9c14-d8aa6d5216ca"
      },
      "execution_count": 42,
      "outputs": [
        {
          "output_type": "stream",
          "name": "stdout",
          "text": [
            "[ 11  19  12   5  25  42   6  25   4  32  15  37   8  48  27  41  39  36\n",
            "  21  50  47  43  27  44  18 300 400]\n",
            "16.5\n",
            "27.0\n",
            "42.5\n",
            "26.0\n",
            "[np.int64(300), np.int64(400)]\n"
          ]
        }
      ]
    }
  ]
}